{
  "nbformat": 4,
  "nbformat_minor": 0,
  "metadata": {
    "colab": {
      "provenance": [],
      "gpuType": "T4"
    },
    "kernelspec": {
      "name": "python3",
      "display_name": "Python 3"
    },
    "language_info": {
      "name": "python"
    },
    "accelerator": "GPU"
  },
  "cells": [
    {
      "cell_type": "code",
      "execution_count": null,
      "metadata": {
        "id": "TYkYm4u35yv-"
      },
      "outputs": [],
      "source": [
        "import warnings\n",
        "warnings.filterwarnings(\"ignore\")\n",
        "\n",
        "!pip install langchain-huggingface\n",
        "\n",

        "!pip install huggingface_hub\n",
        "!pip install transformers\n",
        "!pip install accelerate\n",
        "!pip install bitsandbytes\n",
        "!pip install langchain\n",
        "\n",
        "from langchain_huggingface import HuggingFaceEndpoint\n",
        "import os\n",
        "\n",
        "from langchain import PromptTemplate, LLMChain"
      ]
    },
    {
      "cell_type": "code",
      "source": [
        "from google.colab import userdata\n",
        "sec_key = userdata.get(\"HF_tkn\")"
      ],
      "metadata": {
        "id": "j0EkplHf7NI9"
      },
      "execution_count": null,
      "outputs": []
    },
    {
      "cell_type": "code",
      "source": [
        "os.environ[\"HF_tkn\"] = sec_key"
      ],
      "metadata": {
        "id": "bhkG9h2z-Cju"
      },
      "execution_count": null,
      "outputs": []
    },
    {
      "cell_type": "code",
      "source": [
        "repo_id = \"mistralai/Mistral-7B-Instruct-v0.3\"\n",
        "llm = HuggingFaceEndpoint(repo_id=repo_id, max_length=256, temperature=0.7, token=sec_key )\n",
        "\n",
        "print(llm.invoke(\"What is the only planet in our solar system to rotate clockwise on its axis?\"))"
      ],
      "metadata": {
        "colab": {
          "base_uri": "https://localhost:8080/"
        },
        "id": "QXpt1jyA-yVq",
        "outputId": "7d33d88c-5155-412d-d296-dd234297ee10"
      },
      "execution_count": null,
      "outputs": [
        {
          "output_type": "stream",
          "name": "stderr",
          "text": [
            "WARNING:langchain_huggingface.llms.huggingface_endpoint:WARNING! max_length is not default parameter.\n",
            "                    max_length was transferred to model_kwargs.\n",
            "                    Please make sure that max_length is what you intended.\n",
            "WARNING:langchain_huggingface.llms.huggingface_endpoint:WARNING! token is not default parameter.\n",
            "                    token was transferred to model_kwargs.\n",
            "                    Please make sure that token is what you intended.\n",
            "/usr/local/lib/python3.10/dist-packages/huggingface_hub/utils/_token.py:89: UserWarning: \n",
            "The secret `HF_TOKEN` does not exist in your Colab secrets.\n",
            "To authenticate with the Hugging Face Hub, create a token in your settings tab (https://huggingface.co/settings/tokens), set it as secret in your Google Colab and restart your session.\n",
            "You will be able to reuse this secret in all of your notebooks.\n",
            "Please note that authentication is recommended but still optional to access public models or datasets.\n",
            "  warnings.warn(\n"
          ]
        },
        {
          "output_type": "stream",
          "name": "stdout",
          "text": [
            "\n",
            "\n",
            "Venus is the only planet in our solar system that rotates clockwise on its axis, a phenomenon known as rotation retrograde. This means that Venus rotates in the opposite direction to the majority of the planets in our solar system, including Earth, which rotate counterclockwise. The reason for Venus' rotation retrograde is still a subject of debate among scientists, with theories suggesting it may be due to a massive impact early in Venus' history or the planet's unique magnetic field.\n"
          ]
        }
      ]
    },
    {
      "cell_type": "code",
      "source": [
        "question = \"What is the only planet in our solar system to rotate clockwise on its axis?\"\n",
        "template = \"\"\"Question: {question}\n",
        "Answer: Let's think step by step.\"\"\"\n",
        "\n",
        "prompt = PromptTemplate(template=template, input_variables=[\"question\"])\n",
        "\n",
        "\n",
        "llm_chain = LLMChain(llm=llm, prompt=prompt)\n",
        "print(llm_chain.run(question))\n"
      ],
      "metadata": {
        "colab": {
          "base_uri": "https://localhost:8080/"
        },
        "id": "TnQbmuNtAu3U",
        "outputId": "59e692f9-8731-4fcd-b39e-b58741230b27"
      },
      "execution_count": null,
      "outputs": [
        {
          "output_type": "stream",
          "name": "stdout",
          "text": [
            "\n",
            "1. In our solar system, the rotation of planets on their axis is generally counterclockwise when viewed from the North Pole, except for Venus and Uranus.\n",
            "2. Venus rotates counterclockwise on its axis, contrary to the rotation of the planets. However, it rotates in the same direction as it orbits the sun, which is counterclockwise.\n",
            "3. Uranus, on the other hand, rotates on its axis in a clockwise direction when viewed from its North Pole.\n",
            "4. Interestingly, Uranus is tilted on its axis, which is believed to be the reason for its unusual rotation.\n",
            "5. Therefore, the only planet in our solar system that rotates clockwise on its axis is Uranus.\n"
          ]
        },
        {
          "output_type": "stream",
          "name": "stderr",
          "text": [
            "<ipython-input-5-cf45110d0c6e>:8: LangChainDeprecationWarning: The class `LLMChain` was deprecated in LangChain 0.1.17 and will be removed in 1.0. Use :meth:`~RunnableSequence, e.g., `prompt | llm`` instead.\n",
            "  llm_chain = LLMChain(llm=llm, prompt=prompt)\n",
            "<ipython-input-5-cf45110d0c6e>:9: LangChainDeprecationWarning: The method `Chain.run` was deprecated in langchain 0.1.0 and will be removed in 1.0. Use :meth:`~invoke` instead.\n",
            "  print(llm_chain.run(question))\n"
          ]
        }
      ]
    },
    {
      "cell_type": "code",
      "source": [
        "question = \"What is the only planet in our solar system to rotate clockwise on its axis?\"\n",
        "template = \"\"\"Question: {question}\n",
        "Answer: Short answer.\"\"\"\n",
        "\n",
        "prompt = PromptTemplate(template=template, input_variables=[\"question\"])\n",
        "\n",
        "\n",
        "llm_chain = LLMChain(llm=llm, prompt=prompt)\n",
        "print(llm_chain.run(question))\n"
      ],
      "metadata": {
        "colab": {
          "base_uri": "https://localhost:8080/"
        },
        "id": "XRtJAsM0BHBr",
        "outputId": "e8e9b53c-5835-4727-e908-164945acd8cf"
      },
      "execution_count": null,
      "outputs": [
        {
          "output_type": "stream",
          "name": "stdout",
          "text": [
            " Uranus.\n",
            "\n",
            "Long answer: Uranus, the seventh planet from the sun, rotates clockwise (retrograde) on its axis. The reason for its unusual rotation is still a topic of debate among scientists. Some theories suggest that Uranus was hit by a large object early in its history, causing it to tilt on its side. This collision may have also caused the planet to spin on its side. Another theory suggests that Uranus may have formed from a disk of debris, which would have caused it to spin in a retrograde direction. Regardless of the cause, Uranus's unique rotation makes it one of the most fascinating planets in our solar system.\n"
          ]
        }
      ]
    },
    {
      "cell_type": "code",
      "source": [
        "question = \"What is the only planet in our solar system to rotate clockwise on its axis?\"\n",
        "template = \"\"\"Question: {question}\n",
        "Answer: Bullet points.\"\"\"\n",
        "\n",
        "prompt = PromptTemplate(template=template, input_variables=[\"question\"])\n",
        "\n",
        "\n",
        "llm_chain = LLMChain(llm=llm, prompt=prompt)\n",
        "print(llm_chain.run(question))\n"
      ],
      "metadata": {
        "colab": {
          "base_uri": "https://localhost:8080/"
        },
        "id": "02u_xXomBiXZ",
        "outputId": "a3289e59-9850-4b2a-9e99-b987f601e8d7"
      },
      "execution_count": null,
      "outputs": [
        {
          "output_type": "stream",
          "name": "stdout",
          "text": [
            "\n",
            "1. Venus is the only planet in our solar system that rotates clockwise on its axis.\n",
            "2. This rotation is opposite to the majority of planets in our solar system, which rotate counter-clockwise.\n",
            "3. This unique rotation is due to a phenomenon known as \"spin-orbit resonance,\" where the rotation period of Venus is exactly 243 Earth days, which is the same as its orbital period around the Sun.\n",
            "4. This means that Venus rises and sets in the same location in its sky every 243 days.\n",
            "5. This unusual rotation has contributed to the extreme heat on Venus, as one side of the planet always faces the Sun.\n"
          ]
        }
      ]
    }
  ]
}
